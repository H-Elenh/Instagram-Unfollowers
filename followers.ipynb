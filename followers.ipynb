{
 "cells": [
  {
   "cell_type": "code",
   "execution_count": null,
   "metadata": {},
   "outputs": [],
   "source": [
    "import pandas as pd\n",
    "import json\n",
    "\n",
    "# Replace with the actual path to your JSON file\n",
    "json_file_path = 'following.json'\n",
    "\n",
    "# Read JSON data from instagram following file\n",
    "with open(json_file_path, 'r') as file:\n",
    "    data = json.load(file)\n",
    "\n",
    "# Extract \"value\" from each item in \"string_list_data\"\n",
    "following = [item['string_list_data'][0]['value'] for item in data['relationships_following']]\n",
    "\n",
    "# Create a Pandas DataFrame\n",
    "i_follow = pd.DataFrame({'value': following})\n",
    "\n",
    "# Display the DataFrame\n",
    "print(i_follow)\n"
   ]
  },
  {
   "cell_type": "code",
   "execution_count": null,
   "metadata": {},
   "outputs": [],
   "source": [
    "import pandas as pd\n",
    "import json\n",
    "\n",
    "# Replace with the actual path to your JSON file\n",
    "json_file_path = 'followers_1.json'\n",
    "\n",
    "# Read JSON data from file\n",
    "with open(json_file_path, 'r') as file:\n",
    "    data = json.load(file)\n",
    "\n",
    "# Extract \"value\" from each item in \"string_list_data\"\n",
    "followers = [item['string_list_data'][0]['value'] for item in data]\n",
    "\n",
    "# Create a Pandas DataFrame with a column named \"followers\"\n",
    "follows_me = pd.DataFrame({'followers': followers})\n",
    "\n",
    "# Display the DataFrame\n",
    "print(follows_me)"
   ]
  },
  {
   "cell_type": "code",
   "execution_count": null,
   "metadata": {},
   "outputs": [],
   "source": [
    "# Find users that don't follow me back\n",
    "unfollowers = i_follow[~i_follow['value'].isin(follows_me['followers'])]\n",
    "\n",
    "# Find followers i don't follow\n",
    "unfollowing = follows_me[~follows_me['followers'].isin(i_follow['value'])]\n",
    "\n",
    "#Count Followers\n",
    "countunfollowing = unfollowing.shape[0]\n",
    "#Count Unfollowers\n",
    "countunfollowers = unfollowers.shape[0]\n",
    "\n",
    "# Display the results\n",
    "print(\"People who dont follow me:\", countunfollowers)\n",
    "print(unfollowers)\n",
    "\n",
    "print(\"\\nPeople I dont follow:\",countunfollowing)\n",
    "print(unfollowing)"
   ]
  }
 ],
 "metadata": {
  "kernelspec": {
   "display_name": "Python 3",
   "language": "python",
   "name": "python3"
  },
  "language_info": {
   "codemirror_mode": {
    "name": "ipython",
    "version": 3
   },
   "file_extension": ".py",
   "mimetype": "text/x-python",
   "name": "python",
   "nbconvert_exporter": "python",
   "pygments_lexer": "ipython3",
   "version": "3.10.9"
  }
 },
 "nbformat": 4,
 "nbformat_minor": 2
}
